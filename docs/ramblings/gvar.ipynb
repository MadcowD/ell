{
    "cells": [
        {
            "cell_type": "code",
            "execution_count": 1,
            "metadata": {},
            "outputs": [],
            "source": [
                "z = [\"asd\"]\n",
                "def hello():\n",
                "    asd = [z] # Definition of a bound free variable\n",
                "    return asd\n"
            ]
        },
        {
            "cell_type": "code",
            "execution_count": 2,
            "metadata": {},
            "outputs": [
                {
                    "name": "stdout",
                    "output_type": "stream",
                    "text": [
                        "{'z': ['asd']}\n"
                    ]
                },
                {
                    "data": {
                        "text/plain": [
                            "{'z': ['f']}"
                        ]
                    },
                    "execution_count": 2,
                    "metadata": {},
                    "output_type": "execute_result"
                }
            ],
            "source": [
                "from dill.detect import globalvars, freevars, nestedglobals, outermost, nestedcode\n",
                "y= globalvars(hello)\n",
                "print(y)\n",
                "z[0] = \"f\"\n",
                "y"
            ]
        },
        {
            "cell_type": "code",
            "execution_count": 5,
            "metadata": {},
            "outputs": [
                {
                    "ename": "NameError",
                    "evalue": "name 'testfn' is not defined",
                    "output_type": "error",
                    "traceback": [
                        "\u001b[0;31m---------------------------------------------------------------------------\u001b[0m",
                        "\u001b[0;31mNameError\u001b[0m                                 Traceback (most recent call last)",
                        "Cell \u001b[0;32mIn[5], line 1\u001b[0m\n\u001b[0;32m----> 1\u001b[0m y \u001b[38;5;241m=\u001b[39m (outermost(\u001b[43mtestfn\u001b[49m))\n\u001b[1;32m      2\u001b[0m \u001b[38;5;28;01mfor\u001b[39;00m x \u001b[38;5;129;01min\u001b[39;00m [y] \u001b[38;5;241m+\u001b[39m nestedcode(y):\n\u001b[1;32m      3\u001b[0m     \u001b[38;5;28mprint\u001b[39m(globalvars(x))\n",
                        "\u001b[0;31mNameError\u001b[0m: name 'testfn' is not defined"
                    ]
                }
            ],
            "source": [
                "y = (outermost(testfn))\n",
                "for x in [y] + nestedcode(y):\n",
                "    print(globalvars(x))\n",
                "    "
            ]
        },
        {
            "cell_type": "code",
            "execution_count": 4,
            "metadata": {},
            "outputs": [
                {
                    "ename": "KeyError",
                    "evalue": "'z'",
                    "output_type": "error",
                    "traceback": [
                        "\u001b[0;31m---------------------------------------------------------------------------\u001b[0m",
                        "\u001b[0;31mKeyError\u001b[0m                                  Traceback (most recent call last)",
                        "Cell \u001b[0;32mIn[4], line 2\u001b[0m\n\u001b[1;32m      1\u001b[0m \u001b[38;5;28;01mfrom\u001b[39;00m \u001b[38;5;21;01mdill\u001b[39;00m\u001b[38;5;21;01m.\u001b[39;00m\u001b[38;5;21;01msource\u001b[39;00m \u001b[38;5;28;01mimport\u001b[39;00m \u001b[38;5;241m*\u001b[39m\n\u001b[0;32m----> 2\u001b[0m findsource(\u001b[43mglobalvars\u001b[49m\u001b[43m(\u001b[49m\u001b[43my\u001b[49m\u001b[43m)\u001b[49m\u001b[43m[\u001b[49m\u001b[38;5;124;43m'\u001b[39;49m\u001b[38;5;124;43mz\u001b[39;49m\u001b[38;5;124;43m'\u001b[39;49m\u001b[43m]\u001b[49m)\n",
                        "\u001b[0;31mKeyError\u001b[0m: 'z'"
                    ]
                }
            ],
            "source": [
                "from dill.source import *\n",
                "findsource(globalvars(y)['z'])\n"
            ]
        },
        {
            "cell_type": "markdown",
            "metadata": {},
            "source": [
                "1. Get the global variables referenced by all enclosing scopes "
            ]
        }
    ],
    "metadata": {
        "kernelspec": {
            "display_name": "ai_scientist",
            "language": "python",
            "name": "python3"
        },
        "language_info": {
            "codemirror_mode": {
                "name": "ipython",
                "version": 3
            },
            "file_extension": ".py",
            "mimetype": "text/x-python",
            "name": "python",
            "nbconvert_exporter": "python",
            "pygments_lexer": "ipython3",
            "version": "3.11.9"
        }
    },
    "nbformat": 4,
    "nbformat_minor": 2
}
